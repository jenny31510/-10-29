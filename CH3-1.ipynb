{
 "cells": [
  {
   "cell_type": "code",
   "execution_count": 1,
   "metadata": {},
   "outputs": [
    {
     "name": "stdout",
     "output_type": "stream",
     "text": [
      "請輸入矩形的寬:10\n",
      "請輸入矩形的高:220\n",
      "寬: 10\n",
      "高: 220\n",
      "面積: 2200\n",
      "周長: 460\n"
     ]
    }
   ],
   "source": [
    "# 3-1\n",
    "a=eval(input('請輸入矩形的寬:'))\n",
    "b=eval(input('請輸入矩形的高:'))\n",
    "c=a*b\n",
    "d=(a+b)*2\n",
    "print('寬:',a)\n",
    "print('高:',b)\n",
    "print('面積:',c)\n",
    "print('周長:',d)"
   ]
  },
  {
   "cell_type": "code",
   "execution_count": 2,
   "metadata": {},
   "outputs": [
    {
     "name": "stdout",
     "output_type": "stream",
     "text": [
      "邊長:10\n",
      "高: 8.660254037844386\n",
      "面積: 43.30127018922193\n"
     ]
    }
   ],
   "source": [
    "# 3-2\n",
    "s=eval(input('邊長:'))\n",
    "h=(3**(1/2)*s)/2\n",
    "a=(3**(1/2)*s**2)/4\n",
    "print('高:',h)\n",
    "print('面積:',a)"
   ]
  },
  {
   "cell_type": "code",
   "execution_count": 3,
   "metadata": {},
   "outputs": [
    {
     "name": "stdout",
     "output_type": "stream",
     "text": [
      "分:10\n",
      "秒:20\n",
      "公里:30\n",
      "speed: 36.29032258064516\n"
     ]
    }
   ],
   "source": [
    "# 3-3\n",
    "x=eval(input('分:'))\n",
    "y=eval(input('秒:'))\n",
    "z=eval(input('公里:'))\n",
    "speed=(x/1.6)/(x/60+y/3600)\n",
    "print('speed:', speed)"
   ]
  },
  {
   "cell_type": "code",
   "execution_count": 2,
   "metadata": {},
   "outputs": [
    {
     "name": "stdout",
     "output_type": "stream",
     "text": [
      "公厘:1\n",
      "km: 1.6\n"
     ]
    }
   ],
   "source": [
    "# 3-4\n",
    "a=eval(input('公厘:'))\n",
    "km=a*1.6\n",
    "print('km:',km)"
   ]
  },
  {
   "cell_type": "code",
   "execution_count": 3,
   "metadata": {},
   "outputs": [
    {
     "name": "stdout",
     "output_type": "stream",
     "text": [
      "華氏:50\n",
      "10.0\n"
     ]
    }
   ],
   "source": [
    "#3-5\n",
    "f=eval(input('華氏:'))\n",
    "c=((f-32)*5/9)\n",
    "print(c)"
   ]
  },
  {
   "cell_type": "code",
   "execution_count": 7,
   "metadata": {},
   "outputs": [
    {
     "name": "stdout",
     "output_type": "stream",
     "text": [
      "a:1\n",
      "b:2\n",
      "c:3\n",
      "總: 6\n",
      "平均: 2.0\n"
     ]
    }
   ],
   "source": [
    "#3-6\n",
    "a=eval(input('a:'))\n",
    "b=eval(input('b:'))\n",
    "c=eval(input('c:'))\n",
    "d=a+b+c\n",
    "e=(a+b+c)/3\n",
    "print('總:',d)\n",
    "print('平均:',e)"
   ]
  },
  {
   "cell_type": "code",
   "execution_count": 8,
   "metadata": {},
   "outputs": [
    {
     "name": "stdout",
     "output_type": "stream",
     "text": [
      "姓名:阿\n",
      "學號:123456\n",
      "地址:痾\n",
      "阿\n",
      "123456\n",
      "痾\n"
     ]
    }
   ],
   "source": [
    "# 3-7\n",
    "a=input('姓名:')\n",
    "b=input('學號:')\n",
    "c=input('地址:')\n",
    "print(a)\n",
    "print(b)\n",
    "print(c)"
   ]
  },
  {
   "cell_type": "code",
   "execution_count": 9,
   "metadata": {},
   "outputs": [
    {
     "name": "stdout",
     "output_type": "stream",
     "text": [
      "半徑:3\n",
      "面積: 28.26\n",
      "周長: 18.84\n"
     ]
    }
   ],
   "source": [
    "#3-8\n",
    "r=eval(input('半徑:'))\n",
    "a=r*r*3.14\n",
    "b=2*r*3.14\n",
    "print('面積:',a)\n",
    "print('周長:',b)"
   ]
  },
  {
   "cell_type": "code",
   "execution_count": 10,
   "metadata": {},
   "outputs": [
    {
     "name": "stdout",
     "output_type": "stream",
     "text": [
      "長:2\n",
      "寬:6\n",
      "面積: 12\n",
      "周長: 16\n"
     ]
    }
   ],
   "source": [
    "#3-9\n",
    "a=eval(input('長:'))\n",
    "b=eval(input('寬:'))\n",
    "c=a*b\n",
    "d=(a+b)*2\n",
    "print('面積:',c)\n",
    "print('周長:',d)"
   ]
  },
  {
   "cell_type": "code",
   "execution_count": 11,
   "metadata": {},
   "outputs": [
    {
     "name": "stdout",
     "output_type": "stream",
     "text": [
      "x:5\n",
      "y:5\n"
     ]
    },
    {
     "data": {
      "text/plain": [
       "37.0"
      ]
     },
     "execution_count": 11,
     "metadata": {},
     "output_type": "execute_result"
    }
   ],
   "source": [
    "# 3-10\n",
    "x=eval(input('x:'))\n",
    "y=eval(input('y:'))\n",
    "(3+4*x)/5-10*(y-5)*(x+y+5)/x+9*(4/x+(9+x)/y)"
   ]
  },
  {
   "cell_type": "code",
   "execution_count": 12,
   "metadata": {},
   "outputs": [
    {
     "name": "stdout",
     "output_type": "stream",
     "text": [
      "a:50\n",
      "b:2\n",
      "c:23\n"
     ]
    },
    {
     "data": {
      "text/plain": [
       "-742.82"
      ]
     },
     "execution_count": 12,
     "metadata": {},
     "output_type": "execute_result"
    }
   ],
   "source": [
    "#3-11\n",
    "a=eval(input('a:'))\n",
    "b=eval(input('b:'))\n",
    "c=eval(input('c:'))\n",
    "4/3*(a+34)-9*(a+b*c)+(3+3*(2+a))/a+3*b"
   ]
  },
  {
   "cell_type": "code",
   "execution_count": 15,
   "metadata": {},
   "outputs": [],
   "source": [
    "import os"
   ]
  },
  {
   "cell_type": "code",
   "execution_count": 16,
   "metadata": {},
   "outputs": [
    {
     "data": {
      "text/plain": [
       "'C:\\\\Users\\\\a109230023\\\\Documents'"
      ]
     },
     "execution_count": 16,
     "metadata": {},
     "output_type": "execute_result"
    }
   ],
   "source": [
    "os.getcwd()"
   ]
  },
  {
   "cell_type": "code",
   "execution_count": null,
   "metadata": {},
   "outputs": [],
   "source": []
  }
 ],
 "metadata": {
  "kernelspec": {
   "display_name": "Python 3",
   "language": "python",
   "name": "python3"
  },
  "language_info": {
   "codemirror_mode": {
    "name": "ipython",
    "version": 3
   },
   "file_extension": ".py",
   "mimetype": "text/x-python",
   "name": "python",
   "nbconvert_exporter": "python",
   "pygments_lexer": "ipython3",
   "version": "3.7.3"
  }
 },
 "nbformat": 4,
 "nbformat_minor": 2
}
