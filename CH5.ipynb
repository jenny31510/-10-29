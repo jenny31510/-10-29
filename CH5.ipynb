{
 "cells": [
  {
   "cell_type": "code",
   "execution_count": 1,
   "metadata": {},
   "outputs": [
    {
     "name": "stdout",
     "output_type": "stream",
     "text": [
      "Enter your score: 65\n",
      "Your score is 75\n"
     ]
    }
   ],
   "source": [
    "score = eval(input('Enter your score: ')) \n",
    "if score >= 60: \n",
    "    score += 10 \n",
    "print('Your score is %d'%(score))"
   ]
  },
  {
   "cell_type": "code",
   "execution_count": 2,
   "metadata": {},
   "outputs": [
    {
     "name": "stdout",
     "output_type": "stream",
     "text": [
      "Enter your score: 58\n",
      "Your score is 66\n"
     ]
    }
   ],
   "source": [
    "score = eval(input('Enter your score: ')) \n",
    "if score >= 60: \n",
    "    score += 10\n",
    "    \n",
    "else: \n",
    "    score += 8 \n",
    "print('Your score is %d'%(score))"
   ]
  },
  {
   "cell_type": "code",
   "execution_count": 3,
   "metadata": {},
   "outputs": [
    {
     "name": "stdout",
     "output_type": "stream",
     "text": [
      "Enter temperature today: 25\n",
      "Comfortable\n",
      "Over\n"
     ]
    }
   ],
   "source": [
    "temperature = eval(input('Enter temperature today: ')) \n",
    "if temperature >= 28: \n",
    "    print('Hot') \n",
    "else: \n",
    "    print('Comfortable') \n",
    "print('Over')"
   ]
  },
  {
   "cell_type": "code",
   "execution_count": 4,
   "metadata": {},
   "outputs": [
    {
     "name": "stdout",
     "output_type": "stream",
     "text": [
      "Enter temperature today: 26\n",
      "Comfortable\n",
      "Over\n"
     ]
    }
   ],
   "source": [
    "temperature = eval(input('Enter temperature today: ')) \n",
    "if temperature >= 28:\n",
    "    print('Hot') \n",
    "elif temperature >= 22:\n",
    "    print('Comfortable') \n",
    "else: \n",
    "    print('Cold') \n",
    "print('Over')"
   ]
  },
  {
   "cell_type": "code",
   "execution_count": 5,
   "metadata": {},
   "outputs": [
    {
     "name": "stdout",
     "output_type": "stream",
     "text": [
      "Enter temperature today: 25\n",
      "Enter humility today: 39\n",
      "Cold\n",
      "Over\n"
     ]
    }
   ],
   "source": [
    "temperature =eval(input('Enter temperature today: ')) \n",
    "humility =eval(input('Enter humility today: ')) \n",
    "if temperature >= 28: \n",
    "    print('Hot') \n",
    "elif temperature >= 22 and humility >= 40 and humility <= 50: \n",
    "    print('Comfortable') \n",
    "else: \n",
    "    print('Cold') \n",
    "print('Over')"
   ]
  },
  {
   "cell_type": "code",
   "execution_count": 6,
   "metadata": {},
   "outputs": [
    {
     "name": "stdout",
     "output_type": "stream",
     "text": [
      "Enter a character: x\n",
      "x is lowercase character\n"
     ]
    }
   ],
   "source": [
    "char = input('Enter a character: ') \n",
    "if char >= 'a' and char <= 'z': \n",
    "    print('%c is lowercase character'%(char)) \n",
    "elif char >='A' and char <= 'Z': \n",
    "    print('%c is uppercase character'%(char)) \n",
    "else: \n",
    "    print('%s is other character'%(char))"
   ]
  },
  {
   "cell_type": "code",
   "execution_count": 7,
   "metadata": {},
   "outputs": [
    {
     "name": "stdout",
     "output_type": "stream",
     "text": [
      "Enter a number: 11\n",
      "11 is odd number.\n",
      "Test is over\n"
     ]
    }
   ],
   "source": [
    "num = eval(input('Enter a number: ')) \n",
    "if num % 2 == 0: \n",
    "    print('%d'%(num), end='') \n",
    "    print(' is even number.') \n",
    "else: \n",
    "    print('%d'%(num), end='') \n",
    "    print(' is odd number.') \n",
    "print('Test is over')"
   ]
  },
  {
   "cell_type": "code",
   "execution_count": 8,
   "metadata": {},
   "outputs": [
    {
     "name": "stdout",
     "output_type": "stream",
     "text": [
      "Please input radius:3\n",
      "radius =  3\n",
      "area =  28.27422\n"
     ]
    }
   ],
   "source": [
    "radius = eval(input(\"Please input radius:\"))\n",
    "\n",
    "if radius == 0 :\n",
    "    print(\"Negative is not invalid !!!\")\n",
    "else: \n",
    "    area = radius * radius *3.14158\n",
    "print(\"radius = \", radius) \n",
    "print(\"area = \", area)"
   ]
  },
  {
   "cell_type": "code",
   "execution_count": 9,
   "metadata": {},
   "outputs": [
    {
     "name": "stdout",
     "output_type": "stream",
     "text": [
      "Enter temperature today: 20\n",
      "Cold\n",
      "Over\n"
     ]
    }
   ],
   "source": [
    "temperature = eval(input('Enter temperature today: ')) \n",
    "if temperature >= 28: \n",
    "    print('Hot') \n",
    "elif temperature >= 22: \n",
    "    print('Comfortable')\n",
    "else:\n",
    "    print('Cold')\n",
    "print('Over')"
   ]
  },
  {
   "cell_type": "code",
   "execution_count": 10,
   "metadata": {},
   "outputs": [
    {
     "ename": "IndentationError",
     "evalue": "unexpected indent (<ipython-input-10-4467aa5e70f7>, line 5)",
     "output_type": "error",
     "traceback": [
      "\u001b[1;36m  File \u001b[1;32m\"<ipython-input-10-4467aa5e70f7>\"\u001b[1;36m, line \u001b[1;32m5\u001b[0m\n\u001b[1;33m    print('Your score is %d'%(score))\u001b[0m\n\u001b[1;37m    ^\u001b[0m\n\u001b[1;31mIndentationError\u001b[0m\u001b[1;31m:\u001b[0m unexpected indent\n"
     ]
    }
   ],
   "source": [
    "score = eval(input('Enter your score: ')) \n",
    "if score >= 60: \n",
    "    score += 10 \n",
    "else: score += 8 \n",
    "    print('Your score is %d'%(score))"
   ]
  },
  {
   "cell_type": "code",
   "execution_count": 11,
   "metadata": {},
   "outputs": [
    {
     "name": "stdout",
     "output_type": "stream",
     "text": [
      "Enter temperature today: 26\n",
      "Enter humility today: 39\n",
      "Cold\n",
      "Over\n"
     ]
    }
   ],
   "source": [
    "temperature = eval(input('Enter temperature today: ')) \n",
    "humility = eval(input('Enter humility today: ')) \n",
    "if temperature >= 28: \n",
    "    print('Hot') \n",
    "elif temperature >= 22 & humility >= 40 & humility <= 50: \n",
    "    print('Comfortable') \n",
    "else: \n",
    "    print('Cold')\n",
    "print('Over')"
   ]
  },
  {
   "cell_type": "code",
   "execution_count": 12,
   "metadata": {},
   "outputs": [
    {
     "name": "stdout",
     "output_type": "stream",
     "text": [
      "Please input what year? 593\n",
      "593 is not leap year\n"
     ]
    }
   ],
   "source": [
    "year = eval(input(\"Please input what year? \"))\n",
    "if year % 400 == 0 and (year % 4 == 0 or year % 100!= 0): \n",
    "    print(year, \"is leap year\")\n",
    "else: \n",
    "    print(year, \"is not leap year\")"
   ]
  },
  {
   "cell_type": "code",
   "execution_count": 13,
   "metadata": {},
   "outputs": [
    {
     "name": "stdout",
     "output_type": "stream",
     "text": [
      "Enter a character: j\n",
      "j is other character\n"
     ]
    }
   ],
   "source": [
    "char =input('Enter a character: ') \n",
    "if char <= 'a' and char >= 'z': \n",
    "    print('%c is lowercase character'%(char))\n",
    "elif char <='A' and char >= 'Z': \n",
    "    print('%c is uppercase character'%(char)) \n",
    "else: \n",
    "    print('%s is other character'%(char))"
   ]
  },
  {
   "cell_type": "code",
   "execution_count": 14,
   "metadata": {},
   "outputs": [
    {
     "name": "stdout",
     "output_type": "stream",
     "text": [
      "Enter a number: 56\n"
     ]
    },
    {
     "ename": "TypeError",
     "evalue": "unsupported operand type(s) for %: 'type' and 'int'",
     "output_type": "error",
     "traceback": [
      "\u001b[1;31m---------------------------------------------------------------------------\u001b[0m",
      "\u001b[1;31mTypeError\u001b[0m                                 Traceback (most recent call last)",
      "\u001b[1;32m<ipython-input-14-25f81ab08418>\u001b[0m in \u001b[0;36m<module>\u001b[1;34m\u001b[0m\n\u001b[0;32m      1\u001b[0m \u001b[0mnum\u001b[0m \u001b[1;33m=\u001b[0m\u001b[0minput\u001b[0m\u001b[1;33m(\u001b[0m\u001b[1;34m'Enter a number: '\u001b[0m\u001b[1;33m)\u001b[0m\u001b[1;33m\u001b[0m\u001b[1;33m\u001b[0m\u001b[0m\n\u001b[0;32m      2\u001b[0m \u001b[0mnum\u001b[0m\u001b[1;33m=\u001b[0m\u001b[0mint\u001b[0m\u001b[1;33m\u001b[0m\u001b[1;33m\u001b[0m\u001b[0m\n\u001b[1;32m----> 3\u001b[1;33m \u001b[1;32mif\u001b[0m \u001b[0mnum\u001b[0m\u001b[1;33m%\u001b[0m \u001b[1;36m2\u001b[0m \u001b[1;33m==\u001b[0m \u001b[1;36m0\u001b[0m\u001b[1;33m:\u001b[0m\u001b[1;33m\u001b[0m\u001b[1;33m\u001b[0m\u001b[0m\n\u001b[0m\u001b[0;32m      4\u001b[0m     \u001b[0mprint\u001b[0m\u001b[1;33m(\u001b[0m\u001b[1;34m'%d'\u001b[0m\u001b[1;33m%\u001b[0m\u001b[1;33m(\u001b[0m\u001b[0mnum\u001b[0m\u001b[1;33m)\u001b[0m\u001b[1;33m,\u001b[0m \u001b[0mend\u001b[0m\u001b[1;33m=\u001b[0m\u001b[1;34m''\u001b[0m\u001b[1;33m)\u001b[0m\u001b[1;33m\u001b[0m\u001b[1;33m\u001b[0m\u001b[0m\n\u001b[0;32m      5\u001b[0m     \u001b[0mprint\u001b[0m\u001b[1;33m(\u001b[0m\u001b[1;34m' is even number.'\u001b[0m\u001b[1;33m)\u001b[0m\u001b[1;33m\u001b[0m\u001b[1;33m\u001b[0m\u001b[0m\n",
      "\u001b[1;31mTypeError\u001b[0m: unsupported operand type(s) for %: 'type' and 'int'"
     ]
    }
   ],
   "source": [
    "num =input('Enter a number: ') \n",
    "num=int\n",
    "if num% 2 == 0: \n",
    "    print('%d'%(num), end='') \n",
    "    print(' is even number.') \n",
    "else: \n",
    "    print('%d'%(num), end='') \n",
    "    print(' is odd number.') \n",
    "print('Test is over')"
   ]
  },
  {
   "cell_type": "code",
   "execution_count": null,
   "metadata": {},
   "outputs": [],
   "source": []
  },
  {
   "cell_type": "code",
   "execution_count": null,
   "metadata": {},
   "outputs": [],
   "source": []
  }
 ],
 "metadata": {
  "kernelspec": {
   "display_name": "Python 3",
   "language": "python",
   "name": "python3"
  },
  "language_info": {
   "codemirror_mode": {
    "name": "ipython",
    "version": 3
   },
   "file_extension": ".py",
   "mimetype": "text/x-python",
   "name": "python",
   "nbconvert_exporter": "python",
   "pygments_lexer": "ipython3",
   "version": "3.8.3"
  }
 },
 "nbformat": 4,
 "nbformat_minor": 4
}
