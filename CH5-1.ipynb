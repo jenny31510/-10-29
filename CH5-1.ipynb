{
 "cells": [
  {
   "cell_type": "code",
   "execution_count": 4,
   "metadata": {},
   "outputs": [
    {
     "name": "stdout",
     "output_type": "stream",
     "text": [
      "輸入金額:28000\n",
      "折扣後: 23800.0\n"
     ]
    }
   ],
   "source": [
    "# 5-1\n",
    "a=eval(input('輸入金額:'))\n",
    "if a>=35000:\n",
    "    ans=a*0.8\n",
    "elif a>=25000:\n",
    "    ans=a*0.85\n",
    "elif a>=15000:\n",
    "    ans=a*0.9\n",
    "else:\n",
    "    ans=a*0.95\n",
    "print('折扣後:',ans)"
   ]
  },
  {
   "cell_type": "code",
   "execution_count": 19,
   "metadata": {},
   "outputs": [
    {
     "name": "stdout",
     "output_type": "stream",
     "text": [
      "輸入月份:13\n",
      "錯誤\n"
     ]
    }
   ],
   "source": [
    "#5-2\n",
    "a=eval(input('輸入月份:'))\n",
    "if a>=13:\n",
    "    print('錯誤')\n",
    "elif a>=10:\n",
    "    print('冬天')\n",
    "elif a>=7:\n",
    "    print('秋天')\n",
    "elif a>=4:\n",
    "    print('夏天')\n",
    "else:\n",
    "    print('春天')"
   ]
  },
  {
   "cell_type": "code",
   "execution_count": 14,
   "metadata": {},
   "outputs": [
    {
     "name": "stdout",
     "output_type": "stream",
     "text": [
      "輸入年齡:15\n",
      "金額: 790\n"
     ]
    }
   ],
   "source": [
    "# 5-3\n",
    "a=input('輸入年齡:')\n",
    "if a>=60:\n",
    "    print('金額:',399)\n",
    "elif a>=18:\n",
    "    print('金額:',890)\n",
    "elif a>=12:\n",
    "    print('金額:',790)\n",
    "elif a>=6:\n",
    "    print('金額:',590)\n",
    "else:\n",
    "    print('免費')"
   ]
  },
  {
   "cell_type": "code",
   "execution_count": 1,
   "metadata": {},
   "outputs": [
    {
     "name": "stdout",
     "output_type": "stream",
     "text": [
      "輸入整數:33\n",
      "a為3的倍數\n",
      "a不是3或5的倍數\n"
     ]
    }
   ],
   "source": [
    "# 5-4\n",
    "a=eval(input('輸入整數:'))\n",
    "if a%3 == 0:\n",
    "    print('a為3的倍數')\n",
    "if a%5 == 0:\n",
    "    print('a為5的倍數')    \n",
    "else:\n",
    "    print('a不是3或5的倍數')"
   ]
  },
  {
   "cell_type": "code",
   "execution_count": 10,
   "metadata": {},
   "outputs": [
    {
     "name": "stdout",
     "output_type": "stream",
     "text": [
      "輸入整數:11\n",
      "a不是3或5的倍數\n"
     ]
    }
   ],
   "source": [
    "# 5-4\n",
    "a=eval(input('輸入整數:'))\n",
    "if a%3 == 0 or a%5 == 0:\n",
    "    if a%3 == 0:\n",
    "        print('a為3的倍數')\n",
    "    if a%5 == 0:\n",
    "        print('a為5的倍數')\n",
    "else:\n",
    "    print('a不是3或5的倍數')"
   ]
  },
  {
   "cell_type": "code",
   "execution_count": 6,
   "metadata": {},
   "outputs": [
    {
     "ename": "SyntaxError",
     "evalue": "invalid syntax (<ipython-input-6-ab8df73b3316>, line 3)",
     "output_type": "error",
     "traceback": [
      "\u001b[1;36m  File \u001b[1;32m\"<ipython-input-6-ab8df73b3316>\"\u001b[1;36m, line \u001b[1;32m3\u001b[0m\n\u001b[1;33m    if a ==a to z:\u001b[0m\n\u001b[1;37m             ^\u001b[0m\n\u001b[1;31mSyntaxError\u001b[0m\u001b[1;31m:\u001b[0m invalid syntax\n"
     ]
    }
   ],
   "source": [
    "#5-5\n",
    "a=input('輸入一字元')\n",
    "if a ==a to z:"
   ]
  },
  {
   "cell_type": "code",
   "execution_count": 7,
   "metadata": {},
   "outputs": [
    {
     "name": "stdout",
     "output_type": "stream",
     "text": [
      "輸入所得稅:5630089\n",
      "應納稅額: 1422435.6\n"
     ]
    }
   ],
   "source": [
    "#5-6\n",
    "a=eval(input('輸入所得稅:'))\n",
    "if a>=10310001:\n",
    "    ans=a*0.45-1345100\n",
    "elif a>=4530001:\n",
    "    ans=a*0.4-829600\n",
    "elif a>=2420001:\n",
    "    ans=a*0.3-376600\n",
    "elif a>=1210001:\n",
    "    ans=a*0.2-134600\n",
    "elif a>=540001:\n",
    "    ans=a*0.12-37800\n",
    "else:\n",
    "    ans=a*0.05\n",
    "print('應納稅額:',ans)"
   ]
  },
  {
   "cell_type": "code",
   "execution_count": 10,
   "metadata": {},
   "outputs": [
    {
     "name": "stdout",
     "output_type": "stream",
     "text": [
      "輸入x座標4\n",
      "輸入y座標5\n",
      "點在圓內\n"
     ]
    }
   ],
   "source": [
    "#5-7\n",
    "#268\n",
    "x=eval(input('輸入x座標'))\n",
    "y=eval(input('輸入y座標'))\n",
    "if ((x**2)+(y**2))**(1/2) <=10:\n",
    "    print(\"點在圓內\")\n",
    "else:\n",
    "    print(\"點在圓外\")"
   ]
  },
  {
   "cell_type": "code",
   "execution_count": 12,
   "metadata": {},
   "outputs": [
    {
     "name": "stdout",
     "output_type": "stream",
     "text": [
      "輸入s1:3\n",
      "輸入s2:4\n",
      "輸入s3:5\n",
      "面積為: 6.0\n"
     ]
    }
   ],
   "source": [
    "#5-9\n",
    "s1=eval(input('輸入s1:'))\n",
    "s2=eval(input('輸入s2:'))\n",
    "s3=eval(input('輸入s3:'))\n",
    "if (s1+s2)>s3 or (s2+s3)>s1 or (s1+s3)>s2:\n",
    "    s=(s1+s2+s3)/2\n",
    "    ans=(s*(s-s1)*(s-s2)*(s-s3))**(1/2)\n",
    "    print(\"面積為:\",ans)\n",
    "else:\n",
    "    print('三角形不存在')"
   ]
  },
  {
   "cell_type": "code",
   "execution_count": null,
   "metadata": {},
   "outputs": [],
   "source": []
  }
 ],
 "metadata": {
  "kernelspec": {
   "display_name": "Python 3",
   "language": "python",
   "name": "python3"
  },
  "language_info": {
   "codemirror_mode": {
    "name": "ipython",
    "version": 3
   },
   "file_extension": ".py",
   "mimetype": "text/x-python",
   "name": "python",
   "nbconvert_exporter": "python",
   "pygments_lexer": "ipython3",
   "version": "3.8.3"
  }
 },
 "nbformat": 4,
 "nbformat_minor": 4
}
