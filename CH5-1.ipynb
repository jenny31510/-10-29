{
 "cells": [
  {
   "cell_type": "code",
   "execution_count": 4,
   "metadata": {},
   "outputs": [
    {
     "name": "stdout",
     "output_type": "stream",
     "text": [
      "輸入金額:28000\n",
      "折扣後: 23800.0\n"
     ]
    }
   ],
   "source": [
    "# 5-1\n",
    "a=eval(input('輸入金額:'))\n",
    "if a>=35000:\n",
    "    ans=a*0.8\n",
    "elif a>=25000:\n",
    "    ans=a*0.85\n",
    "elif a>=15000:\n",
    "    ans=a*0.9\n",
    "else:\n",
    "    ans=a*0.95\n",
    "print('折扣後:',ans)"
   ]
  },
  {
   "cell_type": "code",
   "execution_count": 19,
   "metadata": {},
   "outputs": [
    {
     "name": "stdout",
     "output_type": "stream",
     "text": [
      "輸入月份:13\n",
      "錯誤\n"
     ]
    }
   ],
   "source": [
    "#5-2\n",
    "a=eval(input('輸入月份:'))\n",
    "if a>=13:\n",
    "    print('錯誤')\n",
    "elif a>=10:\n",
    "    print('冬天')\n",
    "elif a>=7:\n",
    "    print('秋天')\n",
    "elif a>=4:\n",
    "    print('夏天')\n",
    "else:\n",
    "    print('春天')"
   ]
  },
  {
   "cell_type": "code",
   "execution_count": 14,
   "metadata": {},
   "outputs": [
    {
     "name": "stdout",
     "output_type": "stream",
     "text": [
      "輸入年齡:15\n",
      "金額: 790\n"
     ]
    }
   ],
   "source": [
    "# 5-3\n",
    "a=input('輸入年齡:')\n",
    "if a>=60:\n",
    "    print('金額:',399)\n",
    "elif a>=18:\n",
    "    print('金額:',890)\n",
    "elif a>=12:\n",
    "    print('金額:',790)\n",
    "elif a>=6:\n",
    "    print('金額:',590)\n",
    "else:\n",
    "    print('免費')"
   ]
  },
  {
   "cell_type": "code",
   "execution_count": 1,
   "metadata": {},
   "outputs": [
    {
     "name": "stdout",
     "output_type": "stream",
     "text": [
      "輸入整數:33\n",
      "a為3的倍數\n",
      "a不是3或5的倍數\n"
     ]
    }
   ],
   "source": [
    "# 5-4\n",
    "a=eval(input('輸入整數:'))\n",
    "if a%3 == 0:\n",
    "    print('a為3的倍數')\n",
    "if a%5 == 0:\n",
    "    print('a為5的倍數')    \n",
    "else:\n",
    "    print('a不是3或5的倍數')"
   ]
  },
  {
   "cell_type": "code",
   "execution_count": 10,
   "metadata": {},
   "outputs": [
    {
     "name": "stdout",
     "output_type": "stream",
     "text": [
      "輸入整數:11\n",
      "a不是3或5的倍數\n"
     ]
    }
   ],
   "source": [
    "# 5-4\n",
    "a=eval(input('輸入整數:'))\n",
    "if a%3 == 0 or a%5 == 0:\n",
    "    if a%3 == 0:\n",
    "        print('a為3的倍數')\n",
    "    if a%5 == 0:\n",
    "        print('a為5的倍數')\n",
    "else:\n",
    "    print('a不是3或5的倍數')"
   ]
  },
  {
   "cell_type": "code",
   "execution_count": null,
   "metadata": {},
   "outputs": [],
   "source": []
  }
 ],
 "metadata": {
  "kernelspec": {
   "display_name": "Python 3",
   "language": "python",
   "name": "python3"
  },
  "language_info": {
   "codemirror_mode": {
    "name": "ipython",
    "version": 3
   },
   "file_extension": ".py",
   "mimetype": "text/x-python",
   "name": "python",
   "nbconvert_exporter": "python",
   "pygments_lexer": "ipython3",
   "version": "3.7.4"
  }
 },
 "nbformat": 4,
 "nbformat_minor": 4
}
