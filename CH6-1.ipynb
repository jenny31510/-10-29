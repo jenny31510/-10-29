{
 "cells": [
  {
   "cell_type": "code",
   "execution_count": 7,
   "metadata": {},
   "outputs": [
    {
     "name": "stdout",
     "output_type": "stream",
     "text": [
      "total: 45.124450303050196\n"
     ]
    }
   ],
   "source": [
    "# 6-1\n",
    "total=0\n",
    "a=1\n",
    "b=3\n",
    "while a<=97 and b<=99:\n",
    "    c = a/b\n",
    "    total=total+c\n",
    "    a = a + 2\n",
    "    b = b + 2 \n",
    "print('total:',total)"
   ]
  },
  {
   "cell_type": "code",
   "execution_count": 4,
   "metadata": {},
   "outputs": [
    {
     "name": "stdout",
     "output_type": "stream",
     "text": [
      "45.124450303050196\n"
     ]
    }
   ],
   "source": [
    "total = 0\n",
    "for i in range (1,98,2):\n",
    "    a = i/(i+2)\n",
    "    total = total + a\n",
    "print(total)"
   ]
  },
  {
   "cell_type": "code",
   "execution_count": 13,
   "metadata": {},
   "outputs": [
    {
     "name": "stdout",
     "output_type": "stream",
     "text": [
      "輸入員工數量:2\n",
      "輸入銷售金額:10000\n",
      "輸入銷售金額:30000\n",
      "6200.0\n"
     ]
    }
   ],
   "source": [
    "# 6-2\n",
    "total=0\n",
    "a = eval(input('輸入員工數量:'))\n",
    "c = 1\n",
    "#b=eval(input('輸入銷售金額:'))\n",
    "while c <= a:\n",
    "    b=eval(input('輸入銷售金額:'))\n",
    "    if b>=15000:\n",
    "        d=b*0.16\n",
    "    elif b>=10000:\n",
    "        d=b*0.14\n",
    "    elif b>=5000:\n",
    "        d=b*0.12\n",
    "    else:\n",
    "        d=b*0.1\n",
    "    c = c + 1\n",
    "    total=total + d\n",
    "print(total)"
   ]
  },
  {
   "cell_type": "code",
   "execution_count": 12,
   "metadata": {},
   "outputs": [
    {
     "name": "stdout",
     "output_type": "stream",
     "text": [
      "輸入員工數量:2\n",
      "輸入銷售金額:10000\n",
      "1400.0000000000002\n",
      "輸入銷售金額:30000\n",
      "4800.0\n",
      "6200.0\n"
     ]
    }
   ],
   "source": [
    "# 6-2(1)\n",
    "a=eval(input('輸入員工數量:'))\n",
    "wage = 0\n",
    "for i in range(1,a+1):\n",
    "    b=eval(input('輸入銷售金額:'))\n",
    "    if b>=15000:\n",
    "        c=b*0.16\n",
    "    elif b>=10000:\n",
    "        c=b*0.14\n",
    "    elif b>=5000:\n",
    "        c=b*0.12\n",
    "    else:\n",
    "        c=b*0.1\n",
    "    print(c)\n",
    "    wage=wage+c\n",
    "print(wage)    "
   ]
  },
  {
   "cell_type": "code",
   "execution_count": null,
   "metadata": {},
   "outputs": [],
   "source": [
    "#6-3\n"
   ]
  }
 ],
 "metadata": {
  "kernelspec": {
   "display_name": "Python 3",
   "language": "python",
   "name": "python3"
  },
  "language_info": {
   "codemirror_mode": {
    "name": "ipython",
    "version": 3
   },
   "file_extension": ".py",
   "mimetype": "text/x-python",
   "name": "python",
   "nbconvert_exporter": "python",
   "pygments_lexer": "ipython3",
   "version": "3.7.4"
  }
 },
 "nbformat": 4,
 "nbformat_minor": 4
}
